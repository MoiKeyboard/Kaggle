{
 "cells": [
  {
   "cell_type": "code",
   "execution_count": null,
   "metadata": {
    "collapsed": true
   },
   "outputs": [],
   "source": [
    "import pandas as pd\n",
    "import numpy as np\n",
    "\n",
    "from sklearn.feature_extraction import DictVectorizer\n",
    "from sklearn.preprocessing import LabelEncoder, OneHotEncoder, normalize\n",
    "from sklearn.feature_selection import SelectKBest\n",
    "\n",
    "from scipy.stats import entropy\n",
    "from scipy.sparse import hstack, csr_matrix\n",
    "\n",
    "from xgboost import XGBClassifier\n",
    "\n",
    "from __future__ import division"
   ]
  },
  {
   "cell_type": "markdown",
   "metadata": {},
   "source": [
    "### Reading train and test data"
   ]
  },
  {
   "cell_type": "code",
   "execution_count": null,
   "metadata": {
    "collapsed": false
   },
   "outputs": [],
   "source": [
    "train_df = pd.read_csv('../data/train.csv', dtype={'Upc':'str', 'FineLineNumber':'str'})\n",
    "test_df = pd.read_csv('../data/test.csv', dtype={'Upc':'str', 'FineLineNumber':'str'})\n",
    "\n",
    "train_df = train_df.fillna('others')\n",
    "test_df = test_df.fillna('others')\n",
    "\n",
    "train_df.TripType = 'TripType_' + train_df.TripType.astype('str')"
   ]
  },
  {
   "cell_type": "markdown",
   "metadata": {},
   "source": [
    "### ScanCount aggregation per visit for a feature "
   ]
  },
  {
   "cell_type": "code",
   "execution_count": null,
   "metadata": {
    "collapsed": false
   },
   "outputs": [],
   "source": [
    "def get_feature_count(data, col):\n",
    "    data_col = pd.DataFrame(data.groupby(['VisitNumber', col])['ScanCount'].sum())\n",
    "    data_col = data_col.reset_index()\n",
    "    \n",
    "    data_col['Col_ScanCount'] = zip(data_col[col], data_col['ScanCount'])\n",
    "    data_col = data_col.drop([col, 'ScanCount'], axis=1)\n",
    "\n",
    "    \n",
    "    data_col = data_col.groupby('VisitNumber').aggregate(lambda x: list(x)).reset_index()\n",
    "    \n",
    "    col_as_list_of_dict = [dict(dep_count_list) for dep_count_list in data_col['Col_ScanCount']]\n",
    "    return col_as_list_of_dict"
   ]
  },
  {
   "cell_type": "markdown",
   "metadata": {},
   "source": [
    "### Adding nonzero counts sum and entropy per observation"
   ]
  },
  {
   "cell_type": "code",
   "execution_count": null,
   "metadata": {
    "collapsed": true
   },
   "outputs": [],
   "source": [
    "def add_sample_stat(X, add_sum=False):\n",
    "    \n",
    "    X = csr_matrix(X)\n",
    "    \n",
    "    sample_count = (X != 0).sum(axis=1)\n",
    "    sample_sum = X.sum(axis=1)\n",
    "    \n",
    "    \n",
    "    sample_entropy = np.array([entropy(x.toarray()[0]) for x in X]).reshape((-1,1))\n",
    "    sample_entropy[sample_entropy<0] = 0\n",
    "    \n",
    "    X = normalize(X, norm='l1', copy=False)\n",
    "    \n",
    "    if add_sum:\n",
    "        X = hstack((X,sample_sum,sample_count,sample_entropy))\n",
    "    else:\n",
    "        X = hstack((X,sample_count,sample_entropy))\n",
    "    return csr_matrix(X)"
   ]
  },
  {
   "cell_type": "markdown",
   "metadata": {},
   "source": [
    "### DepartmentDescription features"
   ]
  },
  {
   "cell_type": "code",
   "execution_count": null,
   "metadata": {
    "collapsed": false
   },
   "outputs": [],
   "source": [
    "dep_vectorizer = DictVectorizer()\n",
    "X_dep = dep_vectorizer.fit_transform(get_feature_count(train_df, 'DepartmentDescription'))\n",
    "X_dep_test = dep_vectorizer.transform(get_feature_count(test_df, 'DepartmentDescription'))\n",
    "\n",
    "X_dep = add_sample_stat(X_dep, add_sum=True)\n",
    "X_dep_test = add_sample_stat(X_dep_test, add_sum=True)"
   ]
  },
  {
   "cell_type": "markdown",
   "metadata": {},
   "source": [
    "### FinelineNumber features"
   ]
  },
  {
   "cell_type": "code",
   "execution_count": null,
   "metadata": {
    "collapsed": false
   },
   "outputs": [],
   "source": [
    "fine_vectorizer = DictVectorizer()\n",
    "X_fine = fine_vectorizer.fit_transform(get_feature_count(train_df, 'FinelineNumber'))\n",
    "X_fine_test = fine_vectorizer.transform(get_feature_count(test_df, 'FinelineNumber'))\n",
    "\n",
    "X_fine = add_sample_stat(X_fine)\n",
    "X_fine_test = add_sample_stat(X_fine_test)"
   ]
  },
  {
   "cell_type": "markdown",
   "metadata": {},
   "source": [
    "### Upc features"
   ]
  },
  {
   "cell_type": "code",
   "execution_count": null,
   "metadata": {
    "collapsed": true
   },
   "outputs": [],
   "source": [
    "upc_vectorizer = DictVectorizer()\n",
    "X_upc = upc_vectorizer.fit_transform(get_feature_count(train_df, 'Upc'))\n",
    "X_upc_test = upc_vectorizer.transform(get_feature_count(test_df, 'Upc'))"
   ]
  },
  {
   "cell_type": "markdown",
   "metadata": {},
   "source": [
    "### Target variable"
   ]
  },
  {
   "cell_type": "code",
   "execution_count": null,
   "metadata": {
    "collapsed": false
   },
   "outputs": [],
   "source": [
    "y = np.array(train_df[['VisitNumber', 'TripType']].drop_duplicates()['TripType'])"
   ]
  },
  {
   "cell_type": "markdown",
   "metadata": {},
   "source": [
    "### Dimensionality Reduction for Upc features"
   ]
  },
  {
   "cell_type": "code",
   "execution_count": null,
   "metadata": {
    "collapsed": false
   },
   "outputs": [],
   "source": [
    "selection = SelectKBest(k=500)\n",
    "X_upc = selection.fit_transform(X_upc, y)\n",
    "X_upc_test = selection.transform(X_upc_test)"
   ]
  },
  {
   "cell_type": "markdown",
   "metadata": {},
   "source": [
    "### Weekday feature"
   ]
  },
  {
   "cell_type": "code",
   "execution_count": null,
   "metadata": {
    "collapsed": true
   },
   "outputs": [],
   "source": [
    "X_weekday = np.asarray(train_df[['VisitNumber', 'Weekday']].drop_duplicates().Weekday)\n",
    "X_weekday_test = np.asarray(test_df[['VisitNumber', 'Weekday']].drop_duplicates().Weekday)\n",
    "\n",
    "lbl_enc = LabelEncoder()\n",
    "one_enc = OneHotEncoder()\n",
    "\n",
    "X_weekday = lbl_enc.fit_transform(X_weekday).reshape((-1,1))\n",
    "X_weekday_test = lbl_enc.transform(X_weekday_test).reshape((-1,1))\n",
    "\n",
    "X_weekday = one_enc.fit_transform(X_weekday)\n",
    "X_weekday_test = one_enc.transform(X_weekday_test)"
   ]
  },
  {
   "cell_type": "markdown",
   "metadata": {},
   "source": [
    "### Stacking features"
   ]
  },
  {
   "cell_type": "code",
   "execution_count": null,
   "metadata": {
    "collapsed": true
   },
   "outputs": [],
   "source": [
    "X = hstack((X_dep, X_fine, X_upc, X_weekday))\n",
    "X_test = hstack((X_dep_test, X_fine_test, X_upc_test, X_weekday_test))"
   ]
  },
  {
   "cell_type": "markdown",
   "metadata": {},
   "source": [
    "### xgboost model"
   ]
  },
  {
   "cell_type": "code",
   "execution_count": null,
   "metadata": {
    "collapsed": false
   },
   "outputs": [],
   "source": [
    "xgb_model = XGBClassifier(max_depth=15,\n",
    "                          learning_rate=0.08,\n",
    "                          n_estimators=959,\n",
    "                          objective='multi:softprob',\n",
    "                          nthread=-1, \n",
    "                          min_child_weight=1, \n",
    "                          max_delta_step=0,\n",
    "                          subsample=0.83,\n",
    "                          colsample_bytree=1,\n",
    "                          colsample_bylevel=0.77,\n",
    "                          seed=2345)\n",
    "\n",
    "xgb_model.fit(X,y)\n",
    "predictions = xgb_model.predict_proba(X_test)"
   ]
  },
  {
   "cell_type": "markdown",
   "metadata": {
    "collapsed": true
   },
   "source": [
    "### Submission"
   ]
  },
  {
   "cell_type": "code",
   "execution_count": null,
   "metadata": {
    "collapsed": false
   },
   "outputs": [],
   "source": [
    "submission_df = pd.DataFrame(predictions, columns=xgb_model.classes_)\n",
    "submission_df['VisitNumber'] = test_df.VisitNumber.unique()\n",
    "submission_df = submission_df[['VisitNumber'] + xgb_model.classes_]\n",
    "submission_df.to_csv('../submission/xgb_submission.csv', index=False)"
   ]
  }
 ],
 "metadata": {
  "kernelspec": {
   "display_name": "Python 2",
   "language": "python",
   "name": "python2"
  },
  "language_info": {
   "codemirror_mode": {
    "name": "ipython",
    "version": 2
   },
   "file_extension": ".py",
   "mimetype": "text/x-python",
   "name": "python",
   "nbconvert_exporter": "python",
   "pygments_lexer": "ipython2",
   "version": "2.7.11"
  }
 },
 "nbformat": 4,
 "nbformat_minor": 0
}
